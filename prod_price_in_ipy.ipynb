{
 "cells": [
  {
   "cell_type": "markdown",
   "metadata": {},
   "source": [
    "# Code to compare Price of product on two different E-commerce websites.\n",
    "\n",
    "# Lazada Website"
   ]
  },
  {
   "cell_type": "code",
   "execution_count": 393,
   "metadata": {},
   "outputs": [],
   "source": [
    "# Important libraries\n",
    "# for web scraping\n",
    "from selenium import webdriver\n",
    "from selenium.common.exceptions import *\n",
    "\n",
    "# for data manipulation\n",
    "import pandas as pd\n",
    "\n",
    "# for visualization \n",
    "import matplotlib.pyplot as plt\n",
    "import seaborn as sns"
   ]
  },
  {
   "cell_type": "code",
   "execution_count": 394,
   "metadata": {},
   "outputs": [],
   "source": [
    "# url of website to parse\n",
    "url = 'https://www.lazada.com.my' \n",
    "\n",
    "# product to parse\n",
    "search_item = 'Nescafe Gold refill 170g'"
   ]
  },
  {
   "cell_type": "code",
   "execution_count": 395,
   "metadata": {},
   "outputs": [],
   "source": [
    "# custom chrome options\n",
    "options = webdriver.ChromeOptions()\n",
    "\n",
    "# options.add_argument('--headless') \n",
    "options.add_argument('start-maximized') \n",
    "options.add_argument('disable-infobars')\n",
    "options.add_argument('--disable-extensions')\n",
    "\n",
    "# open the browser\n",
    "driver = webdriver.Chrome()\n",
    "driver.get(url)\n",
    "\n",
    "# find the search bar\n",
    "search_bar = driver.find_element_by_id('q')\n",
    "search_bar.send_keys(search_item)\n",
    "click_button = driver.find_element_by_xpath('//*[@id=\"topActionHeader\"]/div/div[2]/div/div[2]/form/div/div[2]/button')\n",
    "click_button.click()\n",
    "\n",
    "# find the products titles and prices\n",
    "item_titles = driver.find_elements_by_class_name('c16H9d')\n",
    "item_prices = driver.find_elements_by_class_name('c13VH6')\n"
   ]
  },
  {
   "cell_type": "code",
   "execution_count": 396,
   "metadata": {},
   "outputs": [
    {
     "name": "stdout",
     "output_type": "stream",
     "text": [
      "['NESCAFE Gold Coffee Refill 170g', 'Nescafe Gold Refill Pack 170g', 'NESCAFE GOLD Refill 170g x3 packs', 'SHOPPA Nescafe Gold Refill Pack - Rich & Smooth | 170g x 2', '[buy 3 get extra discount] NESCAFE GOLD Refill Twin Pack(170g x 2 Packs)', 'NESCAFE GOLD Refill Twin Pack 170g X 2', 'NESCAFE GOLD REFILL 170g EXP 06/2021', 'Nescafe Gold Refill Pack 170g ( Exp 2021 SEPT )', 'NESCAFE GOLD Refill 170g x2 packs', 'SHOPPA Nescafe Gold Refill Pack - Rich & Smooth | 170g', 'NESCAFE GOLD Refill (170g)', '[EXPIRY 2021] NESCAFE Gold Refill Pack 170g x 2 - NEW PACKAGING!', 'NESCAFE GOLD Refill 170g x3 packs', 'NESCAFE GOLD Refill 170g', 'NESTLE NESCAFE GOLD Refill (170g x 2 Packs)', 'NESCAFE GOLD Refill 170g x2 packs', 'NESCAFE Gold Refill Twin Pack x 170g', 'NESCAFE GOLD Refill 170g', 'Nescafe Gold Refill (170g x 2 Promo)', 'Nescafe Gold Refill Packs (170g x 2 Packs)', 'NESCAFE GOLD Refill - 170g', 'NESCAFE GOLD Refill 170g', 'NESCAFE GOLD Refill 170g x2 packs', 'Nescafe Gold Refill 170g', 'NESCAFE GOLD Refill (170g x 2 Packs)', 'NESCAFE GOLD Refill (170g)', 'NESCAFE GOLD Refill 170g x2 ( Exp : 2021 Sep )', 'Nescafe Gold Refill Pack 170g', 'NESCAFE GOLD Refill 170g']\n",
      "['RM21.50', 'RM25.50', 'RM27.99', 'RM80.29', 'RM42.00', 'RM56.00', 'RM42.99', 'RM42.00', 'RM56.99', 'RM20.88', 'RM27.00', 'RM21.00', 'RM26.00', 'RM41.95', 'RM46.65', 'RM22.88', 'RM28.00', 'RM21.50', 'RM23.90', 'RM46.50', 'RM54.00', 'RM80.28', 'RM26.76', 'RM47.70', 'RM60.00', 'RM46.50', 'RM54.00', 'RM21.99', 'RM29.99', 'RM49.90', 'RM60.00', 'RM45.00', 'RM25.00', 'RM21.90', 'RM27.50', 'RM53.52', 'RM26.76', 'RM164.00', 'RM210.00', 'RM124.00', 'RM157.00', 'RM42.00', 'RM53.00', 'RM21.50', 'RM33.00']\n"
     ]
    }
   ],
   "source": [
    "# empty lists\n",
    "titles_list, prices_list = [], []\n",
    "\n",
    "# loopover the previous list elements\n",
    "for title in item_titles:\n",
    "    titles_list.append(title.text)\n",
    "for price in item_prices:\n",
    "    prices_list.append(price.text)\n",
    "    \n",
    "# the values in the titles_list and prices_list\n",
    "print(titles_list)\n",
    "print(prices_list)"
   ]
  },
  {
   "cell_type": "code",
   "execution_count": 397,
   "metadata": {},
   "outputs": [],
   "source": [
    "# if items are also available on the next page we have to check for it\n",
    "try:\n",
    "    driver.find_element_by_xpath('/html/body/div[3]/div/div[2]/div[1]/div/div[1]/div[3]/div/ul/li[6]/a').click()\n",
    "except NoSuchElementException:\n",
    "    driver.quit()"
   ]
  },
  {
   "cell_type": "code",
   "execution_count": 398,
   "metadata": {},
   "outputs": [
    {
     "name": "stdout",
     "output_type": "stream",
     "text": [
      "                                             ItemName    Price\n",
      "0                     NESCAFE Gold Coffee Refill 170g  RM21.50\n",
      "1                       Nescafe Gold Refill Pack 170g  RM25.50\n",
      "2                   NESCAFE GOLD Refill 170g x3 packs  RM27.99\n",
      "3   SHOPPA Nescafe Gold Refill Pack - Rich & Smoot...  RM80.29\n",
      "4   [buy 3 get extra discount] NESCAFE GOLD Refill...  RM42.00\n",
      "5              NESCAFE GOLD Refill Twin Pack 170g X 2  RM56.00\n",
      "6                NESCAFE GOLD REFILL 170g EXP 06/2021  RM42.99\n",
      "7     Nescafe Gold Refill Pack 170g ( Exp 2021 SEPT )  RM42.00\n",
      "8                   NESCAFE GOLD Refill 170g x2 packs  RM56.99\n",
      "9   SHOPPA Nescafe Gold Refill Pack - Rich & Smoot...  RM20.88\n",
      "10                         NESCAFE GOLD Refill (170g)  RM27.00\n",
      "11  [EXPIRY 2021] NESCAFE Gold Refill Pack 170g x ...  RM21.00\n",
      "12                  NESCAFE GOLD Refill 170g x3 packs  RM26.00\n",
      "13                           NESCAFE GOLD Refill 170g  RM41.95\n",
      "14        NESTLE NESCAFE GOLD Refill (170g x 2 Packs)  RM46.65\n",
      "15                  NESCAFE GOLD Refill 170g x2 packs  RM22.88\n",
      "16               NESCAFE Gold Refill Twin Pack x 170g  RM28.00\n",
      "17                           NESCAFE GOLD Refill 170g  RM21.50\n",
      "18               Nescafe Gold Refill (170g x 2 Promo)  RM23.90\n",
      "19         Nescafe Gold Refill Packs (170g x 2 Packs)  RM46.50\n",
      "20                         NESCAFE GOLD Refill - 170g  RM54.00\n",
      "21                           NESCAFE GOLD Refill 170g  RM80.28\n",
      "22                  NESCAFE GOLD Refill 170g x2 packs  RM26.76\n",
      "23                           Nescafe Gold Refill 170g  RM47.70\n",
      "24               NESCAFE GOLD Refill (170g x 2 Packs)  RM60.00\n",
      "25                         NESCAFE GOLD Refill (170g)  RM46.50\n",
      "26     NESCAFE GOLD Refill 170g x2 ( Exp : 2021 Sep )  RM54.00\n",
      "27                      Nescafe Gold Refill Pack 170g  RM21.99\n",
      "28                           NESCAFE GOLD Refill 170g  RM29.99\n"
     ]
    }
   ],
   "source": [
    "# now analyze the data\n",
    "df = pd.DataFrame(zip(titles_list, prices_list), columns = ['ItemName', 'Price'])\n",
    "print(df)"
   ]
  },
  {
   "cell_type": "code",
   "execution_count": 399,
   "metadata": {},
   "outputs": [
    {
     "name": "stdout",
     "output_type": "stream",
     "text": [
      "<class 'pandas.core.frame.DataFrame'>\n",
      "RangeIndex: 29 entries, 0 to 28\n",
      "Data columns (total 2 columns):\n",
      " #   Column    Non-Null Count  Dtype \n",
      "---  ------    --------------  ----- \n",
      " 0   ItemName  29 non-null     object\n",
      " 1   Price     29 non-null     object\n",
      "dtypes: object(2)\n",
      "memory usage: 592.0+ bytes\n"
     ]
    }
   ],
   "source": [
    "# check the info of DataFrame\n",
    "df.info()"
   ]
  },
  {
   "cell_type": "code",
   "execution_count": 400,
   "metadata": {},
   "outputs": [],
   "source": [
    "# change the datatype of Price column from object to float\n",
    "df['Price'] = df['Price'].str.replace('RM', '').astype(float)"
   ]
  },
  {
   "cell_type": "code",
   "execution_count": 401,
   "metadata": {},
   "outputs": [
    {
     "name": "stdout",
     "output_type": "stream",
     "text": [
      "                                             ItemName  Price\n",
      "0                     NESCAFE Gold Coffee Refill 170g  21.50\n",
      "1                       Nescafe Gold Refill Pack 170g  25.50\n",
      "2                   NESCAFE GOLD Refill 170g x3 packs  27.99\n",
      "5              NESCAFE GOLD Refill Twin Pack 170g X 2  56.00\n",
      "6                NESCAFE GOLD REFILL 170g EXP 06/2021  42.99\n",
      "7     Nescafe Gold Refill Pack 170g ( Exp 2021 SEPT )  42.00\n",
      "8                   NESCAFE GOLD Refill 170g x2 packs  56.99\n",
      "9   SHOPPA Nescafe Gold Refill Pack - Rich & Smoot...  20.88\n",
      "10                         NESCAFE GOLD Refill (170g)  27.00\n",
      "12                  NESCAFE GOLD Refill 170g x3 packs  26.00\n",
      "13                           NESCAFE GOLD Refill 170g  41.95\n",
      "15                  NESCAFE GOLD Refill 170g x2 packs  22.88\n",
      "16               NESCAFE Gold Refill Twin Pack x 170g  28.00\n",
      "17                           NESCAFE GOLD Refill 170g  21.50\n",
      "20                         NESCAFE GOLD Refill - 170g  54.00\n",
      "21                           NESCAFE GOLD Refill 170g  80.28\n",
      "22                  NESCAFE GOLD Refill 170g x2 packs  26.76\n",
      "23                           Nescafe Gold Refill 170g  47.70\n",
      "25                         NESCAFE GOLD Refill (170g)  46.50\n",
      "26     NESCAFE GOLD Refill 170g x2 ( Exp : 2021 Sep )  54.00\n",
      "27                      Nescafe Gold Refill Pack 170g  21.99\n",
      "28                           NESCAFE GOLD Refill 170g  29.99\n"
     ]
    }
   ],
   "source": [
    "# drop the result items which contains x 2 in it\n",
    "df = df[df['ItemName'].str.contains('x{23} | x 2') == False]\n",
    "print(df)"
   ]
  },
  {
   "cell_type": "code",
   "execution_count": 402,
   "metadata": {},
   "outputs": [
    {
     "name": "stdout",
     "output_type": "stream",
     "text": [
      "                                             ItemName  Price\n",
      "0                     NESCAFE Gold Coffee Refill 170g  21.50\n",
      "1                       Nescafe Gold Refill Pack 170g  25.50\n",
      "2                   NESCAFE GOLD Refill 170g x3 packs  27.99\n",
      "5              NESCAFE GOLD Refill Twin Pack 170g X 2  56.00\n",
      "6                NESCAFE GOLD REFILL 170g EXP 06/2021  42.99\n",
      "7     Nescafe Gold Refill Pack 170g ( Exp 2021 SEPT )  42.00\n",
      "8                   NESCAFE GOLD Refill 170g x2 packs  56.99\n",
      "9   SHOPPA Nescafe Gold Refill Pack - Rich & Smoot...  20.88\n",
      "10                         NESCAFE GOLD Refill (170g)  27.00\n",
      "12                  NESCAFE GOLD Refill 170g x3 packs  26.00\n",
      "13                           NESCAFE GOLD Refill 170g  41.95\n",
      "15                  NESCAFE GOLD Refill 170g x2 packs  22.88\n",
      "16               NESCAFE Gold Refill Twin Pack x 170g  28.00\n",
      "17                           NESCAFE GOLD Refill 170g  21.50\n",
      "20                         NESCAFE GOLD Refill - 170g  54.00\n",
      "21                           NESCAFE GOLD Refill 170g  80.28\n",
      "22                  NESCAFE GOLD Refill 170g x2 packs  26.76\n",
      "23                           Nescafe Gold Refill 170g  47.70\n",
      "25                         NESCAFE GOLD Refill (170g)  46.50\n",
      "26     NESCAFE GOLD Refill 170g x2 ( Exp : 2021 Sep )  54.00\n",
      "27                      Nescafe Gold Refill Pack 170g  21.99\n",
      "28                           NESCAFE GOLD Refill 170g  29.99\n"
     ]
    }
   ],
   "source": [
    "# look for the condition that result items contain 170g in it\n",
    "df = df[df['ItemName'].str.contains('170g') == True]\n",
    "print(df)"
   ]
  },
  {
   "cell_type": "code",
   "execution_count": 403,
   "metadata": {},
   "outputs": [
    {
     "name": "stdout",
     "output_type": "stream",
     "text": [
      "                                             ItemName  Price Platform\n",
      "0                     NESCAFE Gold Coffee Refill 170g  21.50   Lazada\n",
      "1                       Nescafe Gold Refill Pack 170g  25.50   Lazada\n",
      "2                   NESCAFE GOLD Refill 170g x3 packs  27.99   Lazada\n",
      "5              NESCAFE GOLD Refill Twin Pack 170g X 2  56.00   Lazada\n",
      "6                NESCAFE GOLD REFILL 170g EXP 06/2021  42.99   Lazada\n",
      "7     Nescafe Gold Refill Pack 170g ( Exp 2021 SEPT )  42.00   Lazada\n",
      "8                   NESCAFE GOLD Refill 170g x2 packs  56.99   Lazada\n",
      "9   SHOPPA Nescafe Gold Refill Pack - Rich & Smoot...  20.88   Lazada\n",
      "10                         NESCAFE GOLD Refill (170g)  27.00   Lazada\n",
      "12                  NESCAFE GOLD Refill 170g x3 packs  26.00   Lazada\n",
      "13                           NESCAFE GOLD Refill 170g  41.95   Lazada\n",
      "15                  NESCAFE GOLD Refill 170g x2 packs  22.88   Lazada\n",
      "16               NESCAFE Gold Refill Twin Pack x 170g  28.00   Lazada\n",
      "17                           NESCAFE GOLD Refill 170g  21.50   Lazada\n",
      "20                         NESCAFE GOLD Refill - 170g  54.00   Lazada\n",
      "21                           NESCAFE GOLD Refill 170g  80.28   Lazada\n",
      "22                  NESCAFE GOLD Refill 170g x2 packs  26.76   Lazada\n",
      "23                           Nescafe Gold Refill 170g  47.70   Lazada\n",
      "25                         NESCAFE GOLD Refill (170g)  46.50   Lazada\n",
      "26     NESCAFE GOLD Refill 170g x2 ( Exp : 2021 Sep )  54.00   Lazada\n",
      "27                      Nescafe Gold Refill Pack 170g  21.99   Lazada\n",
      "28                           NESCAFE GOLD Refill 170g  29.99   Lazada\n"
     ]
    }
   ],
   "source": [
    "# add a new column to dataframe\n",
    "df['Platform'] = 'Lazada'\n",
    "print(df)"
   ]
  },
  {
   "cell_type": "code",
   "execution_count": 404,
   "metadata": {},
   "outputs": [
    {
     "name": "stdout",
     "output_type": "stream",
     "text": [
      "                                             ItemName  Price Platform\n",
      "0                     NESCAFE Gold Coffee Refill 170g  21.50   Lazada\n",
      "1                       Nescafe Gold Refill Pack 170g  25.50   Lazada\n",
      "2                   NESCAFE GOLD Refill 170g x3 packs  27.99   Lazada\n",
      "3              NESCAFE GOLD Refill Twin Pack 170g X 2  56.00   Lazada\n",
      "4                NESCAFE GOLD REFILL 170g EXP 06/2021  42.99   Lazada\n",
      "5     Nescafe Gold Refill Pack 170g ( Exp 2021 SEPT )  42.00   Lazada\n",
      "6                   NESCAFE GOLD Refill 170g x2 packs  56.99   Lazada\n",
      "7   SHOPPA Nescafe Gold Refill Pack - Rich & Smoot...  20.88   Lazada\n",
      "8                          NESCAFE GOLD Refill (170g)  27.00   Lazada\n",
      "9                   NESCAFE GOLD Refill 170g x3 packs  26.00   Lazada\n",
      "10                           NESCAFE GOLD Refill 170g  41.95   Lazada\n",
      "11                  NESCAFE GOLD Refill 170g x2 packs  22.88   Lazada\n",
      "12               NESCAFE Gold Refill Twin Pack x 170g  28.00   Lazada\n",
      "13                           NESCAFE GOLD Refill 170g  21.50   Lazada\n",
      "14                         NESCAFE GOLD Refill - 170g  54.00   Lazada\n",
      "15                           NESCAFE GOLD Refill 170g  80.28   Lazada\n",
      "16                  NESCAFE GOLD Refill 170g x2 packs  26.76   Lazada\n",
      "17                           Nescafe Gold Refill 170g  47.70   Lazada\n",
      "18                         NESCAFE GOLD Refill (170g)  46.50   Lazada\n",
      "19     NESCAFE GOLD Refill 170g x2 ( Exp : 2021 Sep )  54.00   Lazada\n",
      "20                      Nescafe Gold Refill Pack 170g  21.99   Lazada\n",
      "21                           NESCAFE GOLD Refill 170g  29.99   Lazada\n"
     ]
    }
   ],
   "source": [
    "# sort the index values from 0 to number of values in dataframe\n",
    "df.index = range(len(df.index))\n",
    "print(df)"
   ]
  },
  {
   "cell_type": "code",
   "execution_count": 405,
   "metadata": {},
   "outputs": [
    {
     "data": {
      "text/html": [
       "<div>\n",
       "<style scoped>\n",
       "    .dataframe tbody tr th:only-of-type {\n",
       "        vertical-align: middle;\n",
       "    }\n",
       "\n",
       "    .dataframe tbody tr th {\n",
       "        vertical-align: top;\n",
       "    }\n",
       "\n",
       "    .dataframe thead th {\n",
       "        text-align: right;\n",
       "    }\n",
       "</style>\n",
       "<table border=\"1\" class=\"dataframe\">\n",
       "  <thead>\n",
       "    <tr style=\"text-align: right;\">\n",
       "      <th></th>\n",
       "      <th>Price</th>\n",
       "    </tr>\n",
       "  </thead>\n",
       "  <tbody>\n",
       "    <tr>\n",
       "      <th>count</th>\n",
       "      <td>22.000000</td>\n",
       "    </tr>\n",
       "    <tr>\n",
       "      <th>mean</th>\n",
       "      <td>37.381818</td>\n",
       "    </tr>\n",
       "    <tr>\n",
       "      <th>std</th>\n",
       "      <td>15.936078</td>\n",
       "    </tr>\n",
       "    <tr>\n",
       "      <th>min</th>\n",
       "      <td>20.880000</td>\n",
       "    </tr>\n",
       "    <tr>\n",
       "      <th>25%</th>\n",
       "      <td>25.625000</td>\n",
       "    </tr>\n",
       "    <tr>\n",
       "      <th>50%</th>\n",
       "      <td>28.995000</td>\n",
       "    </tr>\n",
       "    <tr>\n",
       "      <th>75%</th>\n",
       "      <td>47.400000</td>\n",
       "    </tr>\n",
       "    <tr>\n",
       "      <th>max</th>\n",
       "      <td>80.280000</td>\n",
       "    </tr>\n",
       "  </tbody>\n",
       "</table>\n",
       "</div>"
      ],
      "text/plain": [
       "           Price\n",
       "count  22.000000\n",
       "mean   37.381818\n",
       "std    15.936078\n",
       "min    20.880000\n",
       "25%    25.625000\n",
       "50%    28.995000\n",
       "75%    47.400000\n",
       "max    80.280000"
      ]
     },
     "execution_count": 405,
     "metadata": {},
     "output_type": "execute_result"
    }
   ],
   "source": [
    "# describe the numerical column vlaues in dataframe\n",
    "df.describe()"
   ]
  },
  {
   "cell_type": "code",
   "execution_count": 406,
   "metadata": {},
   "outputs": [
    {
     "data": {
      "image/png": "[encoded data removed]",
      "text/plain": [
       "<Figure size 432x288 with 1 Axes>"
      ]
     },
     "metadata": {},
     "output_type": "display_data"
    }
   ],
   "source": [
    "# plot the chart of price values \n",
    "sns.set()\n",
    "_ = sns.boxplot(x = 'Platform', y = 'Price', data = df)\n",
    "_ = plt.title('Comparison of Nescafe Gold Refill 170g prices between e-commerce platforms in Malaysia')\n",
    "_ = plt.ylabel('Price (RM)')\n",
    "_ = plt.xlabel('E-commerce Platform')\n",
    "\n",
    "# show the plot\n",
    "plt.show()"
   ]
  },
  {
   "cell_type": "markdown",
   "metadata": {},
   "source": [
    "# Shopee website scrape using an API"
   ]
  },
  {
   "cell_type": "code",
   "execution_count": 407,
   "metadata": {},
   "outputs": [],
   "source": [
    "# requests library for web scraping\n",
    "import requests\n",
    "import re"
   ]
  },
  {
   "cell_type": "code",
   "execution_count": 408,
   "metadata": {},
   "outputs": [],
   "source": [
    "# website url\n",
    "Shopee_url = 'https:://www.shopee.com.my'\n",
    "\n",
    "# product we want to search\n",
    "key_word_search = 'Nescafe Gold refill 170g'\n",
    "\n",
    "# headers to pass to website call\n",
    "headers = {\n",
    " 'User-Agent': 'Chrome',\n",
    " 'Referer': '{}search?keyword={}'.format(Shopee_url, key_word_search)\n",
    "}\n",
    "\n",
    "# API to search our product\n",
    "url = 'https://shopee.com.my/api/v2/search_items/?by=relevancy&keyword={}&limit=100&newest=0&order=desc&page_type=search'.format(key_word_search)\n",
    "\n",
    "# now we do a shopee API request\n",
    "r = requests.get(url, headers = headers).json()\n",
    "\n",
    "# shopee scraping script\n",
    "titles_list = []\n",
    "prices_list = []\n",
    "for item in r['items']:\n",
    "    titles_list.append(item['name'])\n",
    "    prices_list.append(item['price_min'])"
   ]
  },
  {
   "cell_type": "code",
   "execution_count": 409,
   "metadata": {},
   "outputs": [],
   "source": [
    "# create dataframe from the collected titles and price list\n",
    "shopee = pd.DataFrame(zip(titles_list, prices_list), columns = ['ItemName', 'Price'])"
   ]
  },
  {
   "cell_type": "code",
   "execution_count": 410,
   "metadata": {},
   "outputs": [],
   "source": [
    "# add another column\n",
    "shopee['Platform'] = 'Shopee'"
   ]
  },
  {
   "cell_type": "code",
   "execution_count": 411,
   "metadata": {},
   "outputs": [],
   "source": [
    "# update the price and remove items which are not of weight 170g\n",
    "shopee['Price'] /= 100000\n",
    "shopee = shopee[shopee['ItemName'].str.contains('170g') == True]\n",
    "\n",
    "# also remove x2 items\n",
    "shopee = shopee[shopee['ItemName'].str.contains('[2x\\s]{3}|twin', flags=re.IGNORECASE,regex=True) == False]"
   ]
  },
  {
   "cell_type": "code",
   "execution_count": 412,
   "metadata": {},
   "outputs": [
    {
     "name": "stdout",
     "output_type": "stream",
     "text": [
      "                                             ItemName  Price Platform\n",
      "3                          NESCAFE GOLD Refill (170g)  21.90   Shopee\n",
      "4                          NESCAFE GOLD Refill (170g)  21.90   Shopee\n",
      "10                           Nescafe Gold Refill 170g  20.90   Shopee\n",
      "12              NESCAFE GOLD Refill 170g (exp 7/2021)  23.90   Shopee\n",
      "14                           Nescafe Gold Refill 170g  20.20   Shopee\n",
      "15             🔥FreeShipping🔥NESCAFE GOLD Refill 170g  22.80   Shopee\n",
      "18                           NESCAFE GOLD Refill 170g  22.59   Shopee\n",
      "21     Nestle Nescafe Gold Blend Refill 170g tri-pack  67.00   Shopee\n",
      "23                           Nescafe Gold refill 170g  22.20   Shopee\n",
      "24                           Nescafe gold refill 170g  23.50   Shopee\n",
      "25              NESCAFE GOLD Refill 170g【Ready Stock】  20.00   Shopee\n",
      "28  SHOPPA Nescafe Gold Refill Pack - Rich & Smoot...  22.88   Shopee\n",
      "29                         Nescafe Gold Refill (170g)  26.78   Shopee\n",
      "30           NESCAFE GOLD Refill 170g [NEW PACKAGING]  23.80   Shopee\n",
      "31                           NESCAFE GOLD Refill 170g  21.90   Shopee\n",
      "33             Nescafe Gold Original Refill Pack 170g  25.48   Shopee\n",
      "34                         Nescafe Gold Refill (170g)  27.50   Shopee\n",
      "35                           NESCAFE GOLD Refill 170g  22.90   Shopee\n",
      "36                      NESCAFÉ Gold Refill Pack 170g  24.90   Shopee\n",
      "37                     Nescafe Gold Blend Refill 170g  23.00   Shopee\n",
      "38                         NESCAFE GOLD Refill (170g)  21.84   Shopee\n",
      "39             NESCAFE GOLD Refill (170g) READY STOCK  21.90   Shopee\n",
      "42             Nescafe GOLD Refill 170g (READY STOCK)  25.10   Shopee\n",
      "43                      Nescafe Gold Refill pack 170g  21.50   Shopee\n",
      "44              readystock NESCAFE GOLD Refill (170g)  21.09   Shopee\n",
      "46  [READY STOCK]Nescafé Gold Blend Soluble Coffee...  20.90   Shopee\n",
      "48              Nestle Nescafe Gold Blend Refill 170g  21.50   Shopee\n",
      "49  NESCAFE GOLD Combo Set\\n- Nescafe Gold Jar 200...  70.99   Shopee\n",
      "50              Nescafé Gold Blend Refill Pack (170g)  27.90   Shopee\n",
      "51               🔥🔥NESCAFE GOLD Refill (170g)exp:2021  24.90   Shopee\n",
      "52              NESCAFE GOLD Refill 170g (exp 4/2021)  26.90   Shopee\n",
      "53                          NESCAFE GOLD Refill -170g  24.20   Shopee\n",
      "55        Nescafe Gold Refill Pack 170g (Expiry 2021)  28.88   Shopee\n",
      "57                          Nescafe  Gold Refill 170g  28.99   Shopee\n",
      "60                      Nescafe Gold 170g Refill Pack  21.10   Shopee\n",
      "61                       Ori Nescafe Gold Refill 170g  33.00   Shopee\n",
      "62                       Nescafe Gold Refill (2✘170g)  53.50   Shopee\n",
      "63  NESCAFE GOLD Refill 170g Rich & Smooth Readystock  28.60   Shopee\n",
      "64  NESCAFE GOLD Refill 170g Rich & Smooth Readystock  28.80   Shopee\n",
      "65                           NESCAFE GOLD Refill 170g  21.90   Shopee\n",
      "70    NESCAFE GOLD Refill Pack (170g) Expiry: 08/2021  45.00   Shopee\n",
      "71             NESCAFE Gold Refill 170g (NEW packing)  31.90   Shopee\n",
      "72       Nescafe Gold Refill Packs 170g (Ready Stock)  20.90   Shopee\n",
      "75              Nestle Nescafe Gold Blend Refill 170g  23.50   Shopee\n",
      "78        Nescafe Gold Blend Refill Pack 170g [Promo]  41.50   Shopee\n"
     ]
    }
   ],
   "source": [
    "print(shopee)"
   ]
  },
  {
   "cell_type": "code",
   "execution_count": 413,
   "metadata": {},
   "outputs": [
    {
     "name": "stdout",
     "output_type": "stream",
     "text": [
      "                                             ItemName  Price Platform\n",
      "0                          NESCAFE GOLD Refill (170g)  21.90   Shopee\n",
      "1                          NESCAFE GOLD Refill (170g)  21.90   Shopee\n",
      "2                            Nescafe Gold Refill 170g  20.90   Shopee\n",
      "3               NESCAFE GOLD Refill 170g (exp 7/2021)  23.90   Shopee\n",
      "4                            Nescafe Gold Refill 170g  20.20   Shopee\n",
      "5              🔥FreeShipping🔥NESCAFE GOLD Refill 170g  22.80   Shopee\n",
      "6                            NESCAFE GOLD Refill 170g  22.59   Shopee\n",
      "7      Nestle Nescafe Gold Blend Refill 170g tri-pack  67.00   Shopee\n",
      "8                            Nescafe Gold refill 170g  22.20   Shopee\n",
      "9                            Nescafe gold refill 170g  23.50   Shopee\n",
      "10              NESCAFE GOLD Refill 170g【Ready Stock】  20.00   Shopee\n",
      "11  SHOPPA Nescafe Gold Refill Pack - Rich & Smoot...  22.88   Shopee\n",
      "12                         Nescafe Gold Refill (170g)  26.78   Shopee\n",
      "13           NESCAFE GOLD Refill 170g [NEW PACKAGING]  23.80   Shopee\n",
      "14                           NESCAFE GOLD Refill 170g  21.90   Shopee\n",
      "15             Nescafe Gold Original Refill Pack 170g  25.48   Shopee\n",
      "16                         Nescafe Gold Refill (170g)  27.50   Shopee\n",
      "17                           NESCAFE GOLD Refill 170g  22.90   Shopee\n",
      "18                      NESCAFÉ Gold Refill Pack 170g  24.90   Shopee\n",
      "19                     Nescafe Gold Blend Refill 170g  23.00   Shopee\n",
      "20                         NESCAFE GOLD Refill (170g)  21.84   Shopee\n",
      "21             NESCAFE GOLD Refill (170g) READY STOCK  21.90   Shopee\n",
      "22             Nescafe GOLD Refill 170g (READY STOCK)  25.10   Shopee\n",
      "23                      Nescafe Gold Refill pack 170g  21.50   Shopee\n",
      "24              readystock NESCAFE GOLD Refill (170g)  21.09   Shopee\n",
      "25  [READY STOCK]Nescafé Gold Blend Soluble Coffee...  20.90   Shopee\n",
      "26              Nestle Nescafe Gold Blend Refill 170g  21.50   Shopee\n",
      "27  NESCAFE GOLD Combo Set\\n- Nescafe Gold Jar 200...  70.99   Shopee\n",
      "28              Nescafé Gold Blend Refill Pack (170g)  27.90   Shopee\n",
      "29               🔥🔥NESCAFE GOLD Refill (170g)exp:2021  24.90   Shopee\n",
      "30              NESCAFE GOLD Refill 170g (exp 4/2021)  26.90   Shopee\n",
      "31                          NESCAFE GOLD Refill -170g  24.20   Shopee\n",
      "32        Nescafe Gold Refill Pack 170g (Expiry 2021)  28.88   Shopee\n",
      "33                          Nescafe  Gold Refill 170g  28.99   Shopee\n",
      "34                      Nescafe Gold 170g Refill Pack  21.10   Shopee\n",
      "35                       Ori Nescafe Gold Refill 170g  33.00   Shopee\n",
      "36                       Nescafe Gold Refill (2✘170g)  53.50   Shopee\n",
      "37  NESCAFE GOLD Refill 170g Rich & Smooth Readystock  28.60   Shopee\n",
      "38  NESCAFE GOLD Refill 170g Rich & Smooth Readystock  28.80   Shopee\n",
      "39                           NESCAFE GOLD Refill 170g  21.90   Shopee\n",
      "40    NESCAFE GOLD Refill Pack (170g) Expiry: 08/2021  45.00   Shopee\n",
      "41             NESCAFE Gold Refill 170g (NEW packing)  31.90   Shopee\n",
      "42       Nescafe Gold Refill Packs 170g (Ready Stock)  20.90   Shopee\n",
      "43              Nestle Nescafe Gold Blend Refill 170g  23.50   Shopee\n",
      "44        Nescafe Gold Blend Refill Pack 170g [Promo]  41.50   Shopee\n"
     ]
    }
   ],
   "source": [
    "# update index values\n",
    "shopee.index = range(len(shopee.index))\n",
    "print(shopee)"
   ]
  },
  {
   "cell_type": "code",
   "execution_count": 414,
   "metadata": {},
   "outputs": [
    {
     "data": {
      "text/html": [
       "<div>\n",
       "<style scoped>\n",
       "    .dataframe tbody tr th:only-of-type {\n",
       "        vertical-align: middle;\n",
       "    }\n",
       "\n",
       "    .dataframe tbody tr th {\n",
       "        vertical-align: top;\n",
       "    }\n",
       "\n",
       "    .dataframe thead th {\n",
       "        text-align: right;\n",
       "    }\n",
       "</style>\n",
       "<table border=\"1\" class=\"dataframe\">\n",
       "  <thead>\n",
       "    <tr style=\"text-align: right;\">\n",
       "      <th></th>\n",
       "      <th>ItemName</th>\n",
       "      <th>Price</th>\n",
       "      <th>Platform</th>\n",
       "    </tr>\n",
       "  </thead>\n",
       "  <tbody>\n",
       "    <tr>\n",
       "      <th>0</th>\n",
       "      <td>NESCAFE Gold Coffee Refill 170g</td>\n",
       "      <td>21.50</td>\n",
       "      <td>Lazada</td>\n",
       "    </tr>\n",
       "    <tr>\n",
       "      <th>1</th>\n",
       "      <td>Nescafe Gold Refill Pack 170g</td>\n",
       "      <td>25.50</td>\n",
       "      <td>Lazada</td>\n",
       "    </tr>\n",
       "    <tr>\n",
       "      <th>2</th>\n",
       "      <td>NESCAFE GOLD Refill 170g x3 packs</td>\n",
       "      <td>27.99</td>\n",
       "      <td>Lazada</td>\n",
       "    </tr>\n",
       "    <tr>\n",
       "      <th>3</th>\n",
       "      <td>NESCAFE GOLD Refill Twin Pack 170g X 2</td>\n",
       "      <td>56.00</td>\n",
       "      <td>Lazada</td>\n",
       "    </tr>\n",
       "    <tr>\n",
       "      <th>4</th>\n",
       "      <td>NESCAFE GOLD REFILL 170g EXP 06/2021</td>\n",
       "      <td>42.99</td>\n",
       "      <td>Lazada</td>\n",
       "    </tr>\n",
       "    <tr>\n",
       "      <th>...</th>\n",
       "      <td>...</td>\n",
       "      <td>...</td>\n",
       "      <td>...</td>\n",
       "    </tr>\n",
       "    <tr>\n",
       "      <th>62</th>\n",
       "      <td>NESCAFE GOLD Refill Pack (170g) Expiry: 08/2021</td>\n",
       "      <td>45.00</td>\n",
       "      <td>Shopee</td>\n",
       "    </tr>\n",
       "    <tr>\n",
       "      <th>63</th>\n",
       "      <td>NESCAFE Gold Refill 170g (NEW packing)</td>\n",
       "      <td>31.90</td>\n",
       "      <td>Shopee</td>\n",
       "    </tr>\n",
       "    <tr>\n",
       "      <th>64</th>\n",
       "      <td>Nescafe Gold Refill Packs 170g (Ready Stock)</td>\n",
       "      <td>20.90</td>\n",
       "      <td>Shopee</td>\n",
       "    </tr>\n",
       "    <tr>\n",
       "      <th>65</th>\n",
       "      <td>Nestle Nescafe Gold Blend Refill 170g</td>\n",
       "      <td>23.50</td>\n",
       "      <td>Shopee</td>\n",
       "    </tr>\n",
       "    <tr>\n",
       "      <th>66</th>\n",
       "      <td>Nescafe Gold Blend Refill Pack 170g [Promo]</td>\n",
       "      <td>41.50</td>\n",
       "      <td>Shopee</td>\n",
       "    </tr>\n",
       "  </tbody>\n",
       "</table>\n",
       "<p>67 rows × 3 columns</p>\n",
       "</div>"
      ],
      "text/plain": [
       "                                           ItemName  Price Platform\n",
       "0                   NESCAFE Gold Coffee Refill 170g  21.50   Lazada\n",
       "1                     Nescafe Gold Refill Pack 170g  25.50   Lazada\n",
       "2                 NESCAFE GOLD Refill 170g x3 packs  27.99   Lazada\n",
       "3            NESCAFE GOLD Refill Twin Pack 170g X 2  56.00   Lazada\n",
       "4              NESCAFE GOLD REFILL 170g EXP 06/2021  42.99   Lazada\n",
       "..                                              ...    ...      ...\n",
       "62  NESCAFE GOLD Refill Pack (170g) Expiry: 08/2021  45.00   Shopee\n",
       "63           NESCAFE Gold Refill 170g (NEW packing)  31.90   Shopee\n",
       "64     Nescafe Gold Refill Packs 170g (Ready Stock)  20.90   Shopee\n",
       "65            Nestle Nescafe Gold Blend Refill 170g  23.50   Shopee\n",
       "66      Nescafe Gold Blend Refill Pack 170g [Promo]  41.50   Shopee\n",
       "\n",
       "[67 rows x 3 columns]"
      ]
     },
     "execution_count": 414,
     "metadata": {},
     "output_type": "execute_result"
    }
   ],
   "source": [
    "# concat both the dataframes\n",
    "master_df = pd.concat([df, shopee])\n",
    "\n",
    "# update the index of master dataframes\n",
    "master_df.index = range(len(master_df.index))\n",
    "master_df"
   ]
  },
  {
   "cell_type": "code",
   "execution_count": 415,
   "metadata": {},
   "outputs": [
    {
     "name": "stdout",
     "output_type": "stream",
     "text": [
      "         Price                                                          \n",
      "         count       mean        std    min     25%     50%   75%    max\n",
      "Platform                                                                \n",
      "Lazada    22.0  37.381818  15.936078  20.88  25.625  28.995  47.4  80.28\n",
      "Shopee    45.0  27.607111  11.180425  20.00  21.900  23.500  27.9  70.99\n"
     ]
    }
   ],
   "source": [
    "print(master_df.groupby(['Platform']).describe())"
   ]
  },
  {
   "cell_type": "code",
   "execution_count": 416,
   "metadata": {},
   "outputs": [
    {
     "data": {
      "image/png": "[encoded data removed]",
      "text/plain": [
       "<Figure size 432x288 with 1 Axes>"
      ]
     },
     "metadata": {},
     "output_type": "display_data"
    }
   ],
   "source": [
    "# now do ploting\n",
    "sns.set()\n",
    "_ = sns.boxplot(x='Platform', y='Price',data=master_df)\n",
    "_ = plt.title('Comparison of Nescafe Gold Refill 170g prices between e-commerce platforms in Malaysia')\n",
    "_ = plt.ylabel('Price (RM)')\n",
    "_ = plt.xlabel('E-commerce Platform')\n",
    "\n",
    "# Show the plot\n",
    "plt.show()"
   ]
  },
  {
   "cell_type": "markdown",
   "metadata": {},
   "source": [
    "#### This graph shows that Shopee website is a cheaper platform to buy the products with more number of items."
   ]
  }
 ],
 "metadata": {
  "kernelspec": {
   "display_name": "Python 3",
   "language": "python",
   "name": "python3"
  },
  "language_info": {
   "codemirror_mode": {
    "name": "ipython",
    "version": 3
   },
   "file_extension": ".py",
   "mimetype": "text/x-python",
   "name": "python",
   "nbconvert_exporter": "python",
   "pygments_lexer": "ipython3",
   "version": "3.7.6"
  }
 },
 "nbformat": 4,
 "nbformat_minor": 4
}
